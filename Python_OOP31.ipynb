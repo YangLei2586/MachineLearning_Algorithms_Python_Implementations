{
 "cells": [
  {
   "cell_type": "code",
   "execution_count": 1,
   "metadata": {},
   "outputs": [],
   "source": [
    "def printPattern(n):\n",
    " \n",
    "    # Variable initialization\n",
    "    line_no = 1 # Line count\n",
    " \n",
    "    # Loop to print\n",
    "    # desired pattern\n",
    "    curr_star = 0\n",
    "    line_no = 1\n",
    "    while(line_no <= n ):\n",
    "     \n",
    "        # If current star count\n",
    "        # is less than current\n",
    "        # line number\n",
    "        if (curr_star < line_no):\n",
    "            print(\"* \", end = \"\")\n",
    "            curr_star += 1\n",
    "            continue\n",
    "         \n",
    "        # Else time to print\n",
    "        # a new line\n",
    "        if (curr_star == line_no):\n",
    "            print(\"\")\n",
    "            line_no += 1\n",
    "            curr_star = 0\n",
    "            "
   ]
  },
  {
   "cell_type": "code",
   "execution_count": 9,
   "metadata": {},
   "outputs": [
    {
     "name": "stdout",
     "output_type": "stream",
     "text": [
      "*\n",
      "**\n",
      "***\n",
      "****\n",
      "*****\n",
      "******\n",
      "*******\n",
      "********\n",
      "*********\n",
      "**********\n",
      "***********\n",
      "************\n",
      "*************\n",
      "**************\n",
      "***************\n",
      "****************\n"
     ]
    }
   ],
   "source": [
    "def PrintStars(n):\n",
    "    # Line count initialization\n",
    "    line_number = 1\n",
    "    \n",
    "    curr_star = 0\n",
    "    line_number = 1\n",
    "    while(line_number <=n):\n",
    "        if(curr_star < line_number):\n",
    "            print(\"*\", end= \"\")\n",
    "            curr_star += 1\n",
    "            #continue\n",
    "            \n",
    "        if(curr_star == line_number):\n",
    "            print(\"\")\n",
    "            line_number += 1\n",
    "            curr_star = 0\n",
    "PrintStars(16)"
   ]
  },
  {
   "cell_type": "code",
   "execution_count": 19,
   "metadata": {},
   "outputs": [
    {
     "name": "stdout",
     "output_type": "stream",
     "text": [
      "1 2 3 4 5 7 8 9 10 "
     ]
    }
   ],
   "source": [
    "# print values in the range except for 6\n",
    "for i in range(1, 11):\n",
    " \n",
    "    # If i is equals to 6,\n",
    "    # continue to next iteration\n",
    "    # without printing\n",
    "    if i == 6:\n",
    "        continue\n",
    "    else:\n",
    "        # otherwise print the value\n",
    "        # of i\n",
    "        print(i, end=\" \")"
   ]
  },
  {
   "cell_type": "code",
   "execution_count": 17,
   "metadata": {},
   "outputs": [
    {
     "name": "stdout",
     "output_type": "stream",
     "text": [
      "12345789101112131415171819202122232425272829303132333435363738394041424344454647484950"
     ]
    }
   ],
   "source": [
    "for n in range(1,51):\n",
    "    \n",
    "    # if n is equals to 6 continue to next iteration \n",
    "    # without printing\n",
    "    if n == 6 or n == 16 or n==26:\n",
    "        continue\n",
    "    # if not equals to 6 then print the value of n\n",
    "    else:\n",
    "        print(n,end='')"
   ]
  },
  {
   "cell_type": "code",
   "execution_count": 18,
   "metadata": {},
   "outputs": [
    {
     "name": "stdout",
     "output_type": "stream",
     "text": [
      "Current Letters are: y\n",
      "Current Letters are: o\n",
      "Current Letters are: u\n",
      "Current Letters are: a\n",
      "Current Letters are: r\n",
      "Current Letters are: g\n",
      "Current Letters are: r\n",
      "Current Letters are: a\n",
      "Current Letters are: t\n",
      "Current Letters are: h\n",
      "Current Letters are: i\n",
      "Current Letters are: n\n",
      "Current Letters are: o\n",
      "Current Letters are: t\n",
      "Current Letters are: g\n",
      "Current Letters are: r\n",
      "Current Letters are: a\n",
      "Current Letters are: t\n",
      "Current Letters are: a\n",
      "Current Letters are: n\n",
      "Current Letters are: d\n",
      "Current Letters are: y\n",
      "Current Letters are: o\n",
      "Current Letters are: u\n",
      "Current Letters are: a\n",
      "Current Letters are: r\n",
      "Current Letters are: g\n",
      "Current Letters are: r\n",
      "Current Letters are: a\n",
      "Current Letters are: t\n",
      "Current Letters are: h\n",
      "Current Letters are: i\n",
      "Current Letters are: n\n",
      "Current Letters are: o\n",
      "Current Letters are: t\n",
      "Current Letters are: g\n",
      "Current Letters are: r\n",
      "Current Letters are: a\n",
      "Current Letters are: t\n"
     ]
    }
   ],
   "source": [
    "# print letters in sencence except given letters e and s\n",
    "i=0\n",
    "a = 'youaregreatheisnotgreatandyouaregreatheisnotgreat'\n",
    "\n",
    "while i<len(a):\n",
    "    if a[i] == 'e' or a[i]=='s':\n",
    "        i += 1\n",
    "        continue\n",
    "        \n",
    "    print('Current Letters are:', a[i])\n",
    "    i+=1\n"
   ]
  },
  {
   "cell_type": "code",
   "execution_count": null,
   "metadata": {},
   "outputs": [],
   "source": []
  }
 ],
 "metadata": {
  "kernelspec": {
   "display_name": "Python 3",
   "language": "python",
   "name": "python3"
  },
  "language_info": {
   "codemirror_mode": {
    "name": "ipython",
    "version": 3
   },
   "file_extension": ".py",
   "mimetype": "text/x-python",
   "name": "python",
   "nbconvert_exporter": "python",
   "pygments_lexer": "ipython3",
   "version": "3.8.5"
  }
 },
 "nbformat": 4,
 "nbformat_minor": 4
}
