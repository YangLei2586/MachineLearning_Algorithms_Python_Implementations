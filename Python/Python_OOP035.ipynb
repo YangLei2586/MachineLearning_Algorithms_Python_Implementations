{
 "cells": [
  {
   "cell_type": "code",
   "execution_count": 6,
   "metadata": {},
   "outputs": [
    {
     "name": "stdout",
     "output_type": "stream",
     "text": [
      "Original String:\n",
      "Python Exercises Parctice Solution Exercises\n",
      "\n",
      "After removing duplicae words from the said string:\n",
      "PythonExercisesParcticeSolution\n",
      "\n",
      "After removing duplicae words from the said string:\n"
     ]
    }
   ],
   "source": [
    "# 022 collections example remove duplicae words from a given string \n",
    "from collections import OrderedDict\n",
    "text_str = \"Python Exercises Parctice Solution Exercises\"\n",
    "print('Original String:')\n",
    "print(text_str)\n",
    "print('\\nAfter removing duplicae words from the said string:')\n",
    "result = ''.join(OrderedDict((w,w) for w in text_str.split()).keys())\n",
    "print(result)\n",
    "print('\\nAfter removing duplicae words from the said string:')"
   ]
  },
  {
   "cell_type": "code",
   "execution_count": 8,
   "metadata": {},
   "outputs": [
    {
     "name": "stdout",
     "output_type": "stream",
     "text": [
      "Original list:\n",
      "[('yellow', 1), ('blue', 2), ('yellow', 3), ('blue', 4), ('red', 1)]\n",
      "\n",
      "Grouping a sequence of key-value pairs into a dictionary of lists:\n",
      "defaultdict(<class 'list'>, {'yellow': [1, 3], 'blue': [2, 4], 'red': [1]})\n"
     ]
    }
   ],
   "source": [
    "# 023 collection example create a dictionary grouping a sequence of key-value pairs into a dictionary of lists\n",
    "from collections import defaultdict\n",
    "def grouping_dictionary(l):\n",
    "    d = defaultdict(list)\n",
    "    for k,v in l:\n",
    "        d[k].append(v)\n",
    "    return d\n",
    "colors = [('yellow',1),('blue',2),('yellow',3),('blue',4),('red',1)]\n",
    "print('Original list:')\n",
    "print(colors)\n",
    "print('\\nGrouping a sequence of key-value pairs into a dictionary of lists:')\n",
    "print(grouping_dictionary(colors))"
   ]
  },
  {
   "cell_type": "code",
   "execution_count": 10,
   "metadata": {},
   "outputs": [
    {
     "name": "stdout",
     "output_type": "stream",
     "text": [
      "Original list of lists:\n",
      "[[1, 2, 3, 2], [4, 5, 6, 2], [7, 1, 9, 5]]\n",
      "\n",
      "Frequency of the elements in the said list of lists:\n",
      "Counter({2: 3, 1: 2, 5: 2, 3: 1, 4: 1, 6: 1, 7: 1, 9: 1})\n"
     ]
    }
   ],
   "source": [
    "# 024 collections example get the frequency of the elements in a given list of lists\n",
    "from collections import Counter\n",
    "from itertools import chain\n",
    "nums = [\n",
    "       [1,2,3,2],\n",
    "       [4,5,6,2],\n",
    "       [7,1,9,5],\n",
    "       ]\n",
    "print('Original list of lists:')\n",
    "print(nums)\n",
    "print('\\nFrequency of the elements in the said list of lists:')\n",
    "result = Counter(chain.from_iterable(nums))\n",
    "print(result)"
   ]
  },
  {
   "cell_type": "code",
   "execution_count": 11,
   "metadata": {},
   "outputs": [
    {
     "name": "stdout",
     "output_type": "stream",
     "text": [
      "Origianl list:\n",
      "['Green', 'Red', 'Blue', 'Red', 'Orange', 'Black', 'Black', 'white', 'Orange']\n",
      "Count the occurrence of each element of the said list:\n",
      "Counter({'Red': 2, 'Orange': 2, 'Black': 2, 'Green': 1, 'Blue': 1, 'white': 1})\n",
      "\n",
      "Original list:\n",
      "[3, 5, 0, 3, 9, 5, 8, 0, 3, 8, 5, 8, 3, 5, 8, 1, 0, 2]\n",
      "Count the occurrence of each element of the said list:\n",
      "Counter({3: 4, 5: 4, 8: 4, 0: 3, 9: 1, 1: 1, 2: 1})\n"
     ]
    }
   ],
   "source": [
    "# 025 collections example count the occurrence of each element of a given list\n",
    "from collections import Counter\n",
    "colors = ['Green','Red','Blue','Red','Orange','Black','Black','white','Orange']\n",
    "print('Origianl list:')\n",
    "print(colors)\n",
    "print('Count the occurrence of each element of the said list:')\n",
    "result = Counter(colors)\n",
    "print(result)\n",
    "nums = [3,5,0,3,9,5,8,0,3,8,5,8,3,5,8,1,0,2]\n",
    "print('\\nOriginal list:')\n",
    "print(nums)\n",
    "print('Count the occurrence of each element of the said list:')\n",
    "result = Counter(nums)\n",
    "print(result)"
   ]
  },
  {
   "cell_type": "code",
   "execution_count": 12,
   "metadata": {},
   "outputs": [
    {
     "name": "stdout",
     "output_type": "stream",
     "text": [
      "defaultdict(<class 'list'>, {'V': [1], 'VI': [1, 2, 2, 3], 'VII': [1]})\n"
     ]
    }
   ],
   "source": [
    "# 026 collections example find the class wise roll number from a tuple-of-tuples\n",
    "from collections import defaultdict\n",
    "classes = (\n",
    "        ('V',1),\n",
    "        ('VI',1),\n",
    "        ('VI',2),\n",
    "        ('VI',2),\n",
    "        ('VI',3),\n",
    "        ('VII',1),)\n",
    "class_rollno = defaultdict(list)\n",
    "for class_name, roll_id in classes:\n",
    "    class_rollno[class_name].append(roll_id)\n",
    "    \n",
    "print(class_rollno)"
   ]
  },
  {
   "cell_type": "code",
   "execution_count": 13,
   "metadata": {},
   "outputs": [
    {
     "name": "stdout",
     "output_type": "stream",
     "text": [
      "[('pink', 6), ('black', 5), ('white', 5), ('red', 4)]\n"
     ]
    }
   ],
   "source": [
    "# 027 collections example count the most common words in a dictionary\n",
    "words = ['red', 'green', 'black', 'pink', 'black', 'white', 'black', 'eyes',\n",
    "   'white', 'black', 'orange', 'pink', 'pink', 'red', 'red', 'white', 'orange',\n",
    "   'white', \"black\", 'pink', 'green', 'green', 'pink', 'green', 'pink',\n",
    "   'white', 'orange', \"orange\", 'red']\n",
    "from collections import Counter\n",
    "word_counts = Counter(words)\n",
    "top_four = word_counts.most_common(4)\n",
    "print(top_four)"
   ]
  },
  {
   "cell_type": "code",
   "execution_count": 15,
   "metadata": {},
   "outputs": [
    {
     "name": "stdout",
     "output_type": "stream",
     "text": [
      "Counter({'VI': 3, 'V': 2, 'VII': 1})\n"
     ]
    }
   ],
   "source": [
    "# 028 collections example count the number of students of individual class\n",
    "from collections import Counter\n",
    "classes = (\n",
    "          ('V',1),\n",
    "          ('VI',1),\n",
    "          ('V',2),\n",
    "          ('VI',2),\n",
    "          ('VI',3),\n",
    "          ('VII',1),)\n",
    "students = Counter(class_name for class_name, no_students in classes)\n",
    "print(students)"
   ]
  },
  {
   "cell_type": "code",
   "execution_count": 16,
   "metadata": {},
   "outputs": [
    {
     "name": "stdout",
     "output_type": "stream",
     "text": [
      "Afghanistan 93\n",
      "Albanina 355\n",
      "Algeria 213\n",
      "Andorra 376\n",
      "Angola 244\n",
      "\n",
      "In reverse order:\n",
      "Angola 244\n",
      "Andorra 376\n",
      "Algeria 213\n",
      "Albanina 355\n",
      "Afghanistan 93\n"
     ]
    }
   ],
   "source": [
    "# 029 collections example create an instance of OrderedDict using a given dictionary\n",
    "from collections import OrderedDict\n",
    "dict = {'Afghanistan':93, 'Albanina':355, 'Algeria':213, 'Andorra':376, 'Angola':244}\n",
    "new_dict = OrderedDict(dict.items())\n",
    "for key in new_dict:\n",
    "    print(key,new_dict[key])\n",
    "    \n",
    "print('\\nIn reverse order:')\n",
    "for key in reversed(new_dict):\n",
    "    print(key,new_dict[key])"
   ]
  },
  {
   "cell_type": "code",
   "execution_count": 18,
   "metadata": {},
   "outputs": [
    {
     "name": "stdout",
     "output_type": "stream",
     "text": [
      "[('v', [1, 3]), ('vi', [2, 4]), ('vii', [1])]\n"
     ]
    }
   ],
   "source": [
    "# 030 collections example group a sequence of key value pairs into a dictionary of lists\n",
    "from collections import defaultdict\n",
    "class_roll = [('v',1),('vi',2),('v',3),('vi',4),('vii',1)]\n",
    "d = defaultdict(list)\n",
    "for k, v in class_roll:\n",
    "    d[k].append(v)\n",
    "print(sorted(d.items()))"
   ]
  },
  {
   "cell_type": "code",
   "execution_count": 19,
   "metadata": {},
   "outputs": [
    {
     "name": "stdout",
     "output_type": "stream",
     "text": [
      "False\n"
     ]
    }
   ],
   "source": [
    "# 031 collections example compare two unordered lists \n",
    "from collections import Counter\n",
    "def compare_lists(x,y):\n",
    "    return Counter(x) == Counter(y)\n",
    "n1 = [20,10,30,10,20,30]\n",
    "n2 = [30,20,10,30,20,50]\n",
    "print(compare_lists(n1,n2))"
   ]
  },
  {
   "cell_type": "code",
   "execution_count": null,
   "metadata": {},
   "outputs": [],
   "source": []
  }
 ],
 "metadata": {
  "kernelspec": {
   "display_name": "Python 3",
   "language": "python",
   "name": "python3"
  },
  "language_info": {
   "codemirror_mode": {
    "name": "ipython",
    "version": 3
   },
   "file_extension": ".py",
   "mimetype": "text/x-python",
   "name": "python",
   "nbconvert_exporter": "python",
   "pygments_lexer": "ipython3",
   "version": "3.8.5"
  }
 },
 "nbformat": 4,
 "nbformat_minor": 4
}
