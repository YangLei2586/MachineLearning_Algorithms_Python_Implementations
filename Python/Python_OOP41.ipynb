{
 "cells": [
  {
   "cell_type": "markdown",
   "metadata": {},
   "source": [
    "Pyhton Math"
   ]
  },
  {
   "cell_type": "markdown",
   "metadata": {},
   "source": [
    "#### write a python program to convert degree to radian "
   ]
  },
  {
   "cell_type": "code",
   "execution_count": 1,
   "metadata": {},
   "outputs": [
    {
     "name": "stdout",
     "output_type": "stream",
     "text": [
      "Input degrees:15\n",
      "0.2619047619047619\n"
     ]
    }
   ],
   "source": [
    "pi =  22/7\n",
    "degree = float(input(\"Input degrees:\"))\n",
    "radian = degree * (pi/180)\n",
    "print(radian)"
   ]
  },
  {
   "cell_type": "markdown",
   "metadata": {},
   "source": [
    "#### write a python program to convert radian to degree"
   ]
  },
  {
   "cell_type": "code",
   "execution_count": 4,
   "metadata": {},
   "outputs": [
    {
     "name": "stdout",
     "output_type": "stream",
     "text": [
      "Input radian:.52\n",
      "29.78181818181818\n"
     ]
    }
   ],
   "source": [
    "pi = 22/7\n",
    "radian = float(input(\"Input radian:\"))\n",
    "degree = radian / (pi/180)\n",
    "print(degree)"
   ]
  },
  {
   "cell_type": "markdown",
   "metadata": {},
   "source": [
    "#### write a program to calculate the area of a trapezoid"
   ]
  },
  {
   "cell_type": "code",
   "execution_count": 5,
   "metadata": {},
   "outputs": [
    {
     "name": "stdout",
     "output_type": "stream",
     "text": [
      "Height of trapezoid:5\n",
      "Base one value:5\n",
      "Base two value:6\n",
      "Area is: 27.5\n"
     ]
    }
   ],
   "source": [
    "# how to deal with multiple indivdvual inputs\n",
    "height = float(input(\"Height of trapezoid:\"))\n",
    "base_1 = float(input(\"Base one value:\"))\n",
    "base_2 = float(input(\"Base two value:\"))\n",
    "area = ((base_1 + base_2)/2) * height\n",
    "print(\"Area is:\", area)"
   ]
  },
  {
   "cell_type": "markdown",
   "metadata": {},
   "source": [
    "#### write a python program to calculate area of a parallelogram"
   ]
  },
  {
   "cell_type": "code",
   "execution_count": 6,
   "metadata": {},
   "outputs": [
    {
     "name": "stdout",
     "output_type": "stream",
     "text": [
      "Length of the base of the parallelogram:5\n",
      "Height of the parallelogram:6\n",
      "Area is: 30.0\n"
     ]
    }
   ],
   "source": [
    "length = float(input(\"Length of the base of the parallelogram:\"))\n",
    "height = float(input(\"Height of the parallelogram:\"))\n",
    "area = length * height\n",
    "print(\"Area is:\",area)"
   ]
  },
  {
   "cell_type": "markdown",
   "metadata": {},
   "source": [
    "#### write a python program to calculate surface volume and area of a cylinder"
   ]
  },
  {
   "cell_type": "code",
   "execution_count": 10,
   "metadata": {},
   "outputs": [
    {
     "name": "stdout",
     "output_type": "stream",
     "text": [
      "Height of the cylinder is:4\n",
      "Radius of the cylinder is:6\n",
      "Volume is: 452.57142857142856\n",
      "Surface area is: 377.1428571428571\n"
     ]
    }
   ],
   "source": [
    "pi = 22/7\n",
    "height = float(input(\"Height of the cylinder is:\"))\n",
    "radius = float(input(\"Radius of the cylinder is:\"))\n",
    "Volume = pi * radius **2 * height\n",
    "print(\"Volume is:\", Volume)\n",
    "Surface_area = 2*pi*radius*height + 2*pi*radius**2\n",
    "print(\"Surface area is:\", Surface_area)"
   ]
  },
  {
   "cell_type": "markdown",
   "metadata": {},
   "source": [
    "#### write a python program to calculate surface volume and area of a sphere"
   ]
  },
  {
   "cell_type": "code",
   "execution_count": 12,
   "metadata": {},
   "outputs": [
    {
     "name": "stdout",
     "output_type": "stream",
     "text": [
      "Radius of the sphere is:.75\n",
      "Volume is: 1.7678571428571426\n",
      "Surface area is: 7.071428571428571\n"
     ]
    }
   ],
   "source": [
    "pi = 22/7 \n",
    "radius = float(input(\"Radius of the sphere is:\"))\n",
    "Volume = 4/3 * pi * radius**3 \n",
    "Surface_area = 4 * pi * radius **2 \n",
    "print(\"Volume is:\", Volume)\n",
    "print(\"Surface area is:\",Surface_area)"
   ]
  },
  {
   "cell_type": "markdown",
   "metadata": {},
   "source": [
    "#### write a python program to calculate arc length of an angle"
   ]
  },
  {
   "cell_type": "code",
   "execution_count": 13,
   "metadata": {},
   "outputs": [
    {
     "name": "stdout",
     "output_type": "stream",
     "text": [
      "Diameter of circle:9\n",
      "angle measure:45\n",
      "Arc lenght of an angle is: 3.5357142857142856\n"
     ]
    }
   ],
   "source": [
    "pi = 22/7\n",
    "diameter = float(input(\"Diameter of circle:\"))\n",
    "angle = float(input(\"angle measure:\"))\n",
    "arc_length = pi * diameter * (angle/360)\n",
    "print(\"Arc lenght of an angle is:\", arc_length)"
   ]
  },
  {
   "cell_type": "markdown",
   "metadata": {},
   "source": [
    "#### write a python program to clculate the area of the sector "
   ]
  },
  {
   "cell_type": "code",
   "execution_count": 16,
   "metadata": {},
   "outputs": [],
   "source": [
    "def Sectorarea(radius,angle):\n",
    "    \n",
    "    try:\n",
    "        pi= 22/7\n",
    "        radius = float(input(\"Radius of circle:\"))\n",
    "        angle = float(input(\"Angle measure:\"))\n",
    "        sur_area = pi * radius**2 * (angle/360)\n",
    "        \n",
    "        print(sur_area)\n",
    "    \n",
    "    except InputMissingError as e1:\n",
    "        print(\"Please check you have 2 positional inputs\")\n",
    "    except RadiusValueError as e2:\n",
    "        print(\"Please note the radius must be positive value\")\n",
    "    except AngleTooLargeError as e3:\n",
    "        print(\"Plase note the anlge must be less or equal to 360 degree\")\n"
   ]
  },
  {
   "cell_type": "code",
   "execution_count": 19,
   "metadata": {},
   "outputs": [
    {
     "name": "stdout",
     "output_type": "stream",
     "text": [
      "Radius of circle:4\n",
      "Angle measure:45\n",
      "6.285714285714286\n"
     ]
    }
   ],
   "source": [
    "Sectorarea(4,45)"
   ]
  },
  {
   "cell_type": "markdown",
   "metadata": {},
   "source": [
    "#### write a python program to calculate the descrimate value "
   ]
  },
  {
   "cell_type": "code",
   "execution_count": 21,
   "metadata": {},
   "outputs": [],
   "source": [
    "def discriminant():\n",
    "    x = float(input(\"The x value:\"))\n",
    "    y = float(input(\"The y value:\"))\n",
    "    z = float(input(\"The z value:\"))\n",
    "    discriminant = y**2 - 4*x*z\n",
    "    if discriminant > 0:\n",
    "        print(\"Two solutions. Discriminant value is:\", discriminant)\n",
    "    elif discrimiant == 0:\n",
    "        print(\"One solution. Discriminant value is:\",  discriminant)\n",
    "    else:\n",
    "        print(\"No real solution\")"
   ]
  },
  {
   "cell_type": "code",
   "execution_count": 22,
   "metadata": {},
   "outputs": [
    {
     "name": "stdout",
     "output_type": "stream",
     "text": [
      "The x value:4\n",
      "The y value:8\n",
      "The z value:2\n",
      "Two solutions. Discriminant value is: 32.0\n"
     ]
    }
   ],
   "source": [
    "discriminant()"
   ]
  },
  {
   "cell_type": "markdown",
   "metadata": {},
   "source": [
    "#### Write a python program to find the smallest multuple of the first n numbers and display the factors "
   ]
  },
  {
   "cell_type": "code",
   "execution_count": 24,
   "metadata": {},
   "outputs": [
    {
     "name": "stdout",
     "output_type": "stream",
     "text": [
      "[13, 12, 11, 10, 9, 8, 7]\n",
      "360360\n",
      "[12, 11, 10, 9, 8, 7]\n",
      "27720\n",
      "2\n",
      "1\n"
     ]
    }
   ],
   "source": [
    "def SmallestMultiple(n):\n",
    "    if(n<=2):\n",
    "        return n\n",
    "    i = n * 2 \n",
    "    factors = [number for number in range(n,1,-1) if number*2 > n]\n",
    "    print(factors)\n",
    "    \n",
    "    while True:\n",
    "        for a in factors:\n",
    "            if i%a !=0:\n",
    "                i += n\n",
    "                break\n",
    "            if (a==factors[-1] and i%a ==0):\n",
    "                return i\n",
    "            \n",
    "print(SmallestMultiple(13))\n",
    "print(SmallestMultiple(12))\n",
    "print(SmallestMultiple(2))\n",
    "print(SmallestMultiple(1))"
   ]
  },
  {
   "cell_type": "code",
   "execution_count": null,
   "metadata": {},
   "outputs": [],
   "source": []
  }
 ],
 "metadata": {
  "kernelspec": {
   "display_name": "Python 3",
   "language": "python",
   "name": "python3"
  },
  "language_info": {
   "codemirror_mode": {
    "name": "ipython",
    "version": 3
   },
   "file_extension": ".py",
   "mimetype": "text/x-python",
   "name": "python",
   "nbconvert_exporter": "python",
   "pygments_lexer": "ipython3",
   "version": "3.8.5"
  }
 },
 "nbformat": 4,
 "nbformat_minor": 4
}
