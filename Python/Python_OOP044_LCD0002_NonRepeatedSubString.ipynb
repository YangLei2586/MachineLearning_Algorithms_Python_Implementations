{
 "cells": [
  {
   "cell_type": "code",
   "execution_count": 1,
   "metadata": {},
   "outputs": [],
   "source": [
    "class Solution:\n",
    "    def lengthOfLongestSubstring(self, s: str) -> int:\n",
    "        dicts = {}\n",
    "        maxlength = start = 0\n",
    "        for i, value in enumerate(s):\n",
    "            if value in dicts:\n",
    "                sums = dicts[value] + 1\n",
    "                if sums > start:\n",
    "                    start = sums\n",
    "            num = i - start + 1\n",
    "            if num > maxlength:\n",
    "                maxlength = num\n",
    "            dicts[value] = i\n",
    "        return maxlength"
   ]
  },
  {
   "cell_type": "code",
   "execution_count": null,
   "metadata": {},
   "outputs": [],
   "source": [
    "class S2:\n",
    "    def lengthofLongestSubstring{self,s:str}-> int:\n",
    "        dicts = {}\n",
    "        maxlength = start = 0\n",
    "        for i, value in enumerate(s):\n",
    "            if value in dicts:\n",
    "                sums > dicts[value]+1\n",
    "                if sums > start:\n",
    "                    start = sums\n",
    "            num = i - start + 1\n",
    "            if num > maxlength:\n",
    "                maxlength = num\n",
    "            dicts[value] = num\n",
    "            dicts[value] = i\n",
    "        return maxlength"
   ]
  },
  {
   "cell_type": "code",
   "execution_count": 2,
   "metadata": {},
   "outputs": [],
   "source": [
    "class Solution:\n",
    "    def lengthOfLongestSubstring(self, s: str) -> int:\n",
    "        chars = []\n",
    "        length = 0\n",
    "        for char in s:\n",
    "            if char in chars:\n",
    "                chars = chars[chars.index(char) + 1:]\n",
    "            chars.append(char)\n",
    "            length = max(length, len(chars))\n",
    "        return length"
   ]
  },
  {
   "cell_type": "code",
   "execution_count": 3,
   "metadata": {},
   "outputs": [],
   "source": [
    "class Solution4Maxlength:\n",
    "    def MaxLength(self, s: str) -> int:\n",
    "        chars = []\n",
    "        length = 0\n",
    "        for char in s:\n",
    "            if char in chars:\n",
    "                chars = chars[chars.index(char) + 1:]\n",
    "            chars.append(char)\n",
    "            length = max(length, len(chars))\n",
    "        return length"
   ]
  },
  {
   "cell_type": "code",
   "execution_count": 4,
   "metadata": {},
   "outputs": [],
   "source": [
    "class SolutionMaxlength:\n",
    "    def Maxlength(self, s: str) -> int:\n",
    "        chars = []\n",
    "        length = 0\n",
    "        \n",
    "        for char in s:\n",
    "            if char in chars:\n",
    "                chars = chars[chars.index[char] + 1:]\n",
    "            chars.append(char)\n",
    "            length = max(length, len(chars))\n",
    "        return length            "
   ]
  },
  {
   "cell_type": "code",
   "execution_count": 5,
   "metadata": {},
   "outputs": [],
   "source": [
    "class SolutionMaxlength2:\n",
    "    def MaxLength(self, s:str)-> int:\n",
    "        chars = []\n",
    "        length = 0\n",
    "        \n",
    "        for char in s:\n",
    "            if char in chars:\n",
    "                chars = chars[chars.index[char] + 1:]\n",
    "            chars.append(char)\n",
    "            length = max(length, len(chars))\n",
    "        return length"
   ]
  },
  {
   "cell_type": "code",
   "execution_count": null,
   "metadata": {},
   "outputs": [],
   "source": []
  }
 ],
 "metadata": {
  "kernelspec": {
   "display_name": "Python 3",
   "language": "python",
   "name": "python3"
  },
  "language_info": {
   "codemirror_mode": {
    "name": "ipython",
    "version": 3
   },
   "file_extension": ".py",
   "mimetype": "text/x-python",
   "name": "python",
   "nbconvert_exporter": "python",
   "pygments_lexer": "ipython3",
   "version": "3.8.5"
  }
 },
 "nbformat": 4,
 "nbformat_minor": 4
}
