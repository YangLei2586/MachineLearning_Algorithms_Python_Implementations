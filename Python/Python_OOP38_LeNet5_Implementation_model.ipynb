{
 "cells": [
  {
   "cell_type": "code",
   "execution_count": null,
   "metadata": {},
   "outputs": [],
   "source": [
    "# Training an image classifier using LeNet 5 on CIFAR10 data\n",
    "import torch\n",
    "import torch.nn as nn\n",
    "import torch.nn.functional as F\n",
    "\n",
    "class LeNet(nn.Module):\n",
    "    def__init__(self):\n",
    "        super(LeNet,self).__init__():\n",
    "            self.conv1 = nn.Conv2d(3,16,5)\n",
    "            self.pool1 = nn.MaxPool2d(2,2)\n",
    "            self.conv2 = nn.Conv2d(16,32,5)\n",
    "            self.pool2 = nn.MaxPool2d(2,2)\n",
    "            self.fc1   = nn.Linear(32*5*5, 120)\n",
    "            self.fc2   = nn.Linear(120,84)\n",
    "            self.fc3   = nn.Linear(84,10)\n",
    "            \n",
    "    # define forward propergation process x stands preparmeters for batch size, channel, height, width       \n",
    "    def forward(self,x):\n",
    "        x = F.relu(self.conv1(x))\n",
    "        x = self.pool1(x)\n",
    "        x = F.relu(self.conv2(x))\n",
    "        x = self.pool2(x)\n",
    "        x = x.view(-1,32*5*5)\n",
    "        x = F.relu(self.fc1(x))\n",
    "        x = F.relu(self.fc2(x))\n",
    "        x = self.fc3(x)\n",
    "        return x \n",
    "\n",
    "input1= torch.rand([32,3,32,32])\n",
    "model = LeNet()\n",
    "print(model)\n",
    "output = model(input1)  "
   ]
  },
  {
   "cell_type": "code",
   "execution_count": null,
   "metadata": {},
   "outputs": [],
   "source": [
    "import torch\n",
    "import torchvision.transforms as transforms\n",
    "from PIL import Image\n",
    "from model import LeNet\n",
    "\n",
    "def main():\n",
    "    transform = transforms.Compose(\n",
    "    [transforms.Resize((32,32)),\n",
    "     transforms.ToTensor(),\n",
    "     transforms.Normalize((0.5,0.5,0.5),(0.5,0.5,0.5))])\n",
    "    \n",
    "    classes = ('plane','car','bird','cat','deer','dog','frog','horse','ship','truck')\n",
    "    net = LeNet()\n",
    "    net.load_state_dict(torch.load('Lenet.pth'))\n",
    "    \n",
    "    im = Image.open('1.jpg')\n",
    "    im = transform(im)\n",
    "    im = torch.unsequeeze(im,dim=0)\n",
    "    \n",
    "    with torch.no_grad():\n",
    "        outputs = net(im)\n",
    "        predict = torch.max(outputs, dim=1)[1].data.numpy()\n",
    "    print(classes[int(predict)])\n",
    "\n",
    "if __name__ == '__main__':\n",
    "    main()"
   ]
  }
 ],
 "metadata": {
  "kernelspec": {
   "display_name": "Python 3",
   "language": "python",
   "name": "python3"
  },
  "language_info": {
   "codemirror_mode": {
    "name": "ipython",
    "version": 3
   },
   "file_extension": ".py",
   "mimetype": "text/x-python",
   "name": "python",
   "nbconvert_exporter": "python",
   "pygments_lexer": "ipython3",
   "version": "3.8.5"
  }
 },
 "nbformat": 4,
 "nbformat_minor": 4
}
