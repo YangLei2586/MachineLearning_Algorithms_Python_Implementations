{
 "cells": [
  {
   "cell_type": "code",
   "execution_count": null,
   "metadata": {},
   "outputs": [],
   "source": [
    "# Collection examples\n",
    "# 003 find 10 most common occurrences words in a given text\n",
    "from collections import Counter\n",
    "import re\n",
    "text = \"\"\"The Python Software Foundation (PSF) is a 501(c)(3) non-profit \n",
    "corporation that holds the intellectual property rights behind\n",
    "the Python programming language. We manage the open source licensing \n",
    "for Python version 2.1 and later and own and protect the trademarks \n",
    "associated with Python. We also run the North American PyCon conference \n",
    "annually, support other Python conferences around the world, and \n",
    "fund Python related development with our grants program and by funding \n",
    "special projects.\"\"\"\n",
    "words = re.findall('\\w+',text)\n",
    "print(Counter(words).most_common(6))"
   ]
  },
  {
   "cell_type": "code",
   "execution_count": null,
   "metadata": {},
   "outputs": [],
   "source": [
    "# 004 count distinct word and print the number of distinct word\n",
    "from collections import Counter, OrderedDict\n",
    "class OrderedCounter(Counter, OrderedDict):\n",
    "    pass\n",
    "word_array = []\n",
    "n = int(input(\"Input number of words:\"))\n",
    "print(\"Input the words:\")\n",
    "for i in range(n):\n",
    "    word_array.append(input().strip())\n",
    "word_ctr = OrderedCounter(word_array)\n",
    "print(len(word_ctr))\n",
    "for word in word_ctr:\n",
    "    print(word_ctr[word],end='')"
   ]
  },
  {
   "cell_type": "code",
   "execution_count": null,
   "metadata": {},
   "outputs": [],
   "source": [
    "# 005 additino class \n",
    "class Addition:\n",
    "    first = 0\n",
    "    second = 0\n",
    "    answer = 0\n",
    "    \n",
    "    # parameterized constructor\n",
    "    def __init__(self,f,s):\n",
    "        self.first = f\n",
    "        self.second = s\n",
    "    \n",
    "    def display(self):\n",
    "        print(\"First number =\" + str(self.first))\n",
    "        print(\"Second number =\" + str(self.second))\n",
    "        print(\"Addition of two numbers =\" + str(self.answer))\n",
    "    \n",
    "    def calculate(self):\n",
    "        self.answer = self.first + self.second\n",
    "        \n",
    "obj = Addition(1100,32323)\n",
    "obj.calculate()\n",
    "obj.display()"
   ]
  },
  {
   "cell_type": "code",
   "execution_count": null,
   "metadata": {},
   "outputs": [],
   "source": [
    "# 006 python program accept name of given subject and marks, then print subject name and marks in \n",
    "# order of its first occurrence\n",
    "import collections, re\n",
    "n = int(input(\"Number of subjects:\"))\n",
    "item_order = collections.OrderedDict()\n",
    "for i in range(n):\n",
    "    sub_marks_list = re.split(r'(\\d+)$',input(\"Input Subject name and marks:\").stripe())\n",
    "    sub_name = sun_marks_list[0]\n",
    "    item_price = int(sub_marks_list[1])\n",
    "    if subject_name not in item_order:\n",
    "        item_order[subject_name]=item_price\n",
    "    else:\n",
    "        item_order[subject_name]=item_order[subject_name]+item_price\n",
    "\n",
    "for i in item_order:\n",
    "    print(i+str(item_order[i]))"
   ]
  },
  {
   "cell_type": "code",
   "execution_count": 11,
   "metadata": {},
   "outputs": [
    {
     "name": "stdout",
     "output_type": "stream",
     "text": [
      "deque(['Red', 'Green', 'White'])\n",
      "deque(['Pink', 'Red', 'Green', 'White'])\n",
      "deque(['Pink', 'Red', 'Green', 'White', 'Orange'])\n",
      "deque(['Pink', 'Red', 'Green', 'White'])\n",
      "deque(['Red', 'Green', 'White'])\n"
     ]
    }
   ],
   "source": [
    "# 007 deque append and delete\n",
    "import collections\n",
    "# create a deque\n",
    "deq_colors = collections.deque(['Red','Green','White'])\n",
    "print(deq_colors)\n",
    "# append to the left\n",
    "deq_colors.appendleft('Pink')\n",
    "print(deq_colors)\n",
    "# append to the right\n",
    "deq_colors.append('Orange')\n",
    "print(deq_colors)\n",
    "# remove from the right\n",
    "deq_colors.pop()\n",
    "print(deq_colors)\n",
    "# remove from the left\n",
    "deq_colors.popleft()\n",
    "print(deq_colors)\n",
    "# reverse the deque\n",
    "deq_colors.reverse()"
   ]
  },
  {
   "cell_type": "code",
   "execution_count": 16,
   "metadata": {},
   "outputs": [
    {
     "name": "stdout",
     "output_type": "stream",
     "text": [
      "original tuple:\n",
      "(2, 4, 6)\n",
      "<class 'tuple'>\n",
      "\n",
      "Original deque:\n",
      "deque([2, 4, 6])\n",
      "New deque from an existing iterable object:\n",
      "deque([2, 2, 4, 6, 8, 10, 12])\n",
      "<class 'collections.deque'>\n"
     ]
    }
   ],
   "source": [
    "# 008 create a deque from an existing iterable object\n",
    "import collections\n",
    "even_nums = (2,4,6)\n",
    "print(\"original tuple:\")\n",
    "print(even_nums)\n",
    "print(type(even_nums))\n",
    "even_nums_deque = collections.deque(even_nums)\n",
    "print(\"\\nOriginal deque:\")\n",
    "print(even_nums_deque)\n",
    "even_nums_deque.append(8)\n",
    "even_nums_deque.append(10)\n",
    "even_nums_deque.append(12)\n",
    "even_nums_deque.appendleft(2)\n",
    "print('New deque from an existing iterable object:')\n",
    "print(even_nums_deque)\n",
    "print(type(even_nums_deque))"
   ]
  },
  {
   "cell_type": "code",
   "execution_count": 18,
   "metadata": {},
   "outputs": [
    {
     "name": "stdout",
     "output_type": "stream",
     "text": [
      "Even numbers are:\n",
      "deque([2, 4, 6, 8, 10])\n",
      "More even numbers\n",
      "deque([2, 4, 6, 8, 10, 12, 14, 16, 18, 20, 22, 24, 26])\n"
     ]
    }
   ],
   "source": [
    "# 009 add more elements using collections deque extend \n",
    "import collections \n",
    "even_nums = (2,4,6,8,10)\n",
    "even_deque = collections.deque(even_nums)\n",
    "print('Even numbers are:')\n",
    "print(even_deque)\n",
    "more_even_nums = (12,14,16,18,20,22,24,26)\n",
    "even_deque.extend(more_even_nums)\n",
    "print(\"More even numbers\")\n",
    "print(even_deque)"
   ]
  },
  {
   "cell_type": "code",
   "execution_count": 19,
   "metadata": {},
   "outputs": [
    {
     "name": "stdout",
     "output_type": "stream",
     "text": [
      "Original deque object with odd numbers:\n",
      "deque([1, 3, 5, 7, 9])\n",
      "Deque length: 5\n",
      "Deque object after removing all numbers-\n",
      "deque([])\n",
      "Deque length:0\n"
     ]
    }
   ],
   "source": [
    "# 010 clear all the elments using colleations deque clear\n",
    "import collections\n",
    "odd_nums = (1,3,5,7,9)\n",
    "odd_deque = collections.deque(odd_nums)\n",
    "print('Original deque object with odd numbers:')\n",
    "print(odd_deque)\n",
    "print('Deque length: %d'%(len(odd_deque)))\n",
    "odd_deque.clear()\n",
    "print('Deque object after removing all numbers-')\n",
    "print(odd_deque)\n",
    "print('Deque length:%d'%(len(odd_deque)))"
   ]
  },
  {
   "cell_type": "code",
   "execution_count": null,
   "metadata": {},
   "outputs": [],
   "source": []
  }
 ],
 "metadata": {
  "kernelspec": {
   "display_name": "Python 3",
   "language": "python",
   "name": "python3"
  },
  "language_info": {
   "codemirror_mode": {
    "name": "ipython",
    "version": 3
   },
   "file_extension": ".py",
   "mimetype": "text/x-python",
   "name": "python",
   "nbconvert_exporter": "python",
   "pygments_lexer": "ipython3",
   "version": "3.8.5"
  }
 },
 "nbformat": 4,
 "nbformat_minor": 4
}
