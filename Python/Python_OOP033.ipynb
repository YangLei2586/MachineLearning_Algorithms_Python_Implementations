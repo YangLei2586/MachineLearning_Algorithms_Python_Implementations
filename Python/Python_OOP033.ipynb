{
 "cells": [
  {
   "cell_type": "code",
   "execution_count": 2,
   "metadata": {},
   "outputs": [
    {
     "name": "stdout",
     "output_type": "stream",
     "text": [
      "Original deque object with odd numbers:\n",
      "deque([1, 3, 5, 7, 9])\n",
      "deque length: 5\n",
      "Deque object after removing all numbers-\n",
      "deque([])\n",
      "Deque length:0\n"
     ]
    }
   ],
   "source": [
    "# 009 collections example for clearing all deque elements \n",
    "import collections \n",
    "odd_nums = (1,3,5,7,9)\n",
    "odd_deque = collections.deque(odd_nums)\n",
    "print('Original deque object with odd numbers:')\n",
    "print(odd_deque)\n",
    "print(\"deque length: %d\"%(len(odd_deque)))\n",
    "odd_deque.clear()\n",
    "print('Deque object after removing all numbers-')\n",
    "print(odd_deque)\n",
    "print('Deque length:%d'%(len(odd_deque)))"
   ]
  },
  {
   "cell_type": "code",
   "execution_count": 3,
   "metadata": {},
   "outputs": [
    {
     "name": "stdout",
     "output_type": "stream",
     "text": [
      "content of dq1:\n",
      "deque([1, 3, 5, 7, 9, 11])\n",
      "dq2 id:\n",
      "2626127146048\n",
      "content of dq2\n",
      "deque([1, 3, 5, 7, 9, 11])\n",
      "dq2 id:\n",
      "2626127638880\n",
      "\n",
      "Checking the first element of dq1 and dq2 are shallow copies:\n",
      "140718399039264\n",
      "140718399039264\n"
     ]
    }
   ],
   "source": [
    "# 010 collections example for checking the shallow copying of a deque object\n",
    "import collections\n",
    "tup1 = (1,3,5,7,9,11)\n",
    "dq1 = collections.deque(tup1)\n",
    "dq2 = dq1.copy()\n",
    "print('content of dq1:')\n",
    "print(dq1)\n",
    "print('dq2 id:')\n",
    "print(id(dq1))\n",
    "print('content of dq2')\n",
    "print(dq2)\n",
    "print('dq2 id:')\n",
    "print(id(dq2))\n",
    "print('\\nChecking the first element of dq1 and dq2 are shallow copies:')\n",
    "print(id(dq1[0]))\n",
    "print(id(dq2[0]))"
   ]
  },
  {
   "cell_type": "code",
   "execution_count": 4,
   "metadata": {},
   "outputs": [
    {
     "name": "stdout",
     "output_type": "stream",
     "text": [
      "Number of 2 in the sequence\n",
      "5\n",
      "Number of 4 in the sequence\n",
      "4\n"
     ]
    }
   ],
   "source": [
    "# 011 write a ptyon program to count the number of tmes a specific element presents in a deque object\n",
    "import collections\n",
    "nums = (2,9,0,8,2,4,0,9,2,4,8,2,0,4,2,3,4,0)\n",
    "nums_dq = collections.deque(nums)\n",
    "print('Number of 2 in the sequence')\n",
    "print(nums_dq.count(2))\n",
    "print('Number of 4 in the sequence')\n",
    "print(nums_dq.count(4))"
   ]
  },
  {
   "cell_type": "code",
   "execution_count": 16,
   "metadata": {},
   "outputs": [
    {
     "name": "stdout",
     "output_type": "stream",
     "text": [
      "deque before rotation:\n",
      "deque([2, 4, 6, 8, 10])\n",
      "deque after 1 rotation:\n",
      "deque([8, 10, 2, 4, 6])\n",
      "deque([6, 8, 10, 2, 4])\n"
     ]
    }
   ],
   "source": [
    "# 012 rotate a deque object sepcified positive number of times\n",
    "import collections\n",
    "dq_obj = collections.deque()\n",
    "#a = [2,4,6,8,10]\n",
    "dq_obj.append(2)\n",
    "dq_obj.append(4)\n",
    "dq_obj.append(6)\n",
    "dq_obj.append(8)\n",
    "dq_obj.append(10)\n",
    "#dq_obj.append(a)\n",
    "print('deque before rotation:')\n",
    "print(dq_obj)\n",
    "print('deque after 1 rotation:')\n",
    "dq_obj.rotate(2)\n",
    "print(dq_obj)\n",
    "dq_obj.rotate(1)\n",
    "print(dq_obj)"
   ]
  },
  {
   "cell_type": "code",
   "execution_count": 22,
   "metadata": {},
   "outputs": [
    {
     "name": "stdout",
     "output_type": "stream",
     "text": [
      "deque before rotation:\n",
      "deque([2, 4, 6, 8, 10])\n",
      "deque after 1 rotation:\n",
      "deque([4, 6, 8, 10, 2])\n",
      "deque([8, 10, 2, 4, 6])\n"
     ]
    }
   ],
   "source": [
    "# 013 rotate a deque object sepcified negative number of times\n",
    "import collections\n",
    "dq_obj = collections.deque()\n",
    "#a = [2,4,6,8,10]\n",
    "dq_obj.append(2)\n",
    "dq_obj.append(4)\n",
    "dq_obj.append(6)\n",
    "dq_obj.append(8)\n",
    "dq_obj.append(10)\n",
    "#dq_obj.append(a)\n",
    "print('deque before rotation:')\n",
    "print(dq_obj)\n",
    "print('deque after 1 rotation:')\n",
    "dq_obj.rotate(-1)\n",
    "print(dq_obj)\n",
    "dq_obj.rotate(-2)\n",
    "print(dq_obj)"
   ]
  },
  {
   "cell_type": "code",
   "execution_count": 23,
   "metadata": {},
   "outputs": [
    {
     "name": "stdout",
     "output_type": "stream",
     "text": [
      "C1: Counter({1: 1, 2: 1, 3: 1, 4: 1, 5: 1})\n",
      "C2: Counter({4: 1, 5: 1, 6: 1, 7: 1, 8: 1})\n",
      "\n",
      "Combined counts:\n",
      "Counter({4: 2, 5: 2, 1: 1, 2: 1, 3: 1, 6: 1, 7: 1, 8: 1})\n",
      "\n",
      "Subtraction:\n",
      "Counter({1: 1, 2: 1, 3: 1})\n",
      "\n",
      "Intersection taking positive minimums:\n",
      "Counter({4: 1, 5: 1})\n",
      "\n",
      "Union taking maximums:\n",
      "Counter({1: 1, 2: 1, 3: 1, 4: 1, 5: 1, 6: 1, 7: 1, 8: 1})\n"
     ]
    }
   ],
   "source": [
    "# 014 perform counter arithemtic and set operations for aggregating results\n",
    "import collections\n",
    "c1 = collections.Counter([1,2,3,4,5])\n",
    "c2 = collections.Counter([4,5,6,7,8])\n",
    "print('C1:',c1)\n",
    "print('C2:',c2)\n",
    "print('\\nCombined counts:')\n",
    "print(c1 + c2)\n",
    "print('\\nSubtraction:')\n",
    "print(c1 - c2)\n",
    "print('\\nIntersection taking positive minimums:')\n",
    "print(c1&c2)\n",
    "print('\\nUnion taking maximums:')\n",
    "print(c1|c2)"
   ]
  },
  {
   "cell_type": "code",
   "execution_count": 27,
   "metadata": {},
   "outputs": [
    {
     "name": "stdout",
     "output_type": "stream",
     "text": [
      "10\n"
     ]
    }
   ],
   "source": [
    "# 015 find the majority element from a given array of size n using collections more than half of the elements of input occurs\n",
    "import collections\n",
    "class solution():\n",
    "    def majorityElement(nums):\n",
    "        \"\"\"\n",
    "        :type nums: list[int]\n",
    "        :return type: int\n",
    "        \"\"\"\n",
    "        count_ele = collections.Counter(nums)\n",
    "        return count_ele.most_common()[0][0]\n",
    "result = solution.majorityElement([10,10,20,30,40,10,20,10])\n",
    "print(result)"
   ]
  },
  {
   "cell_type": "code",
   "execution_count": 31,
   "metadata": {},
   "outputs": [
    {
     "name": "stdout",
     "output_type": "stream",
     "text": [
      "Original dictionary:\n",
      "{'R': 'Red', 'B': 'Black', 'P': 'Pink'}  {'G': 'Green', 'W': 'White'}\n",
      "\n",
      "Merged dict:\n",
      "{'G': 'Green', 'W': 'White', 'R': 'Red', 'B': 'Black', 'P': 'Pink'}\n",
      "Original dictionary:\n",
      "{'R': 'Red', 'B': 'Black', 'P': 'Pink'}  {'G': 'Green', 'W': 'White'} {'O': 'Orange', 'W': 'White', 'B': 'Black'}\n",
      "\n",
      "Merged dict:\n",
      "{'O': 'Orange', 'W': 'White', 'B': 'Black', 'G': 'Green', 'R': 'Red', 'P': 'Pink'}\n"
     ]
    }
   ],
   "source": [
    "# 016 merge more than one dictionary in a signel expression using collections.ChainMap()\n",
    "import collections as ct\n",
    "def merge_dic(color1,color2):\n",
    "    merged_dic = dict(ct.ChainMap({},color1,color2))\n",
    "    return merged_dic\n",
    "color1 = {'R':'Red','B':'Black','P':'Pink'}\n",
    "color2 = {'G':'Green','W':'White'}\n",
    "print('Original dictionary:')\n",
    "print(color1,'',color2)\n",
    "print('\\nMerged dict:')\n",
    "print(merge_dic(color1,color2))\n",
    "\n",
    "\n",
    "\n",
    "def merge_dic(color1,color2,color3):\n",
    "    merged_dic = dict(ct.ChainMap({},color1,color2,color3))\n",
    "    return merged_dic\n",
    "color1 = {'R':'Red','B':'Black','P':'Pink'}\n",
    "color2 = {'G':'Green','W':'White'}\n",
    "color3 = {'O':'Orange','W':'White','B':'Black'}\n",
    "print('Original dictionary:')\n",
    "print(color1,'',color2,color3)\n",
    "print('\\nMerged dict:')\n",
    "print(merge_dic(color1,color2,color3))\n"
   ]
  },
  {
   "cell_type": "code",
   "execution_count": 33,
   "metadata": {},
   "outputs": [
    {
     "name": "stdout",
     "output_type": "stream",
     "text": [
      "Ogiginal list: [1, 2, 3, 4, 5, 6, 7, 8]\n",
      "Number to devide the said list: 4\n",
      "True\n",
      "Ogiginal list: [1, 2, 3, 4, 5, 6, 7, 8]\n",
      "Number to devide the said list: 3\n",
      "False\n"
     ]
    }
   ],
   "source": [
    "# 017 break a given list of integers into sets of a given positive number then return true or false\n",
    "import collections as clt\n",
    "def check_break_list(nums,n):\n",
    "    coll_data = clt.Counter(nums)\n",
    "    for x in sorted(coll_data.keys()):\n",
    "        for index in range(1,n):\n",
    "            coll_data[x+index] = coll_data[x+index] - coll_data[x]\n",
    "            if coll_data[x+index] < 0:\n",
    "                return False\n",
    "    return True\n",
    "\n",
    "nums = [1,2,3,4,5,6,7,8]\n",
    "n = 4\n",
    "print('Ogiginal list:',nums)\n",
    "print('Number to devide the said list:',n)\n",
    "print(check_break_list(nums,n))\n",
    "\n",
    "nums = [1,2,3,4,5,6,7,8]\n",
    "n = 3 \n",
    "print('Ogiginal list:',nums)\n",
    "print('Number to devide the said list:',n)\n",
    "print(check_break_list(nums,n))"
   ]
  },
  {
   "cell_type": "code",
   "execution_count": 36,
   "metadata": {},
   "outputs": [
    {
     "name": "stdout",
     "output_type": "stream",
     "text": [
      "original list:\n",
      "[2, 3, 8, 4, 7, 9, 8, 2, 6, 5, 1, 6, 1, 2, 3, 2, 4, 6, 9, 1, 2]\n",
      "\n",
      "Item with maximum frequency of the said list:\n",
      "(2, 5)\n"
     ]
    }
   ],
   "source": [
    "# 018 find the item with maximum frequency in a given list \n",
    "from collections import defaultdict\n",
    "def max_occurence(nums):\n",
    "    dict = defaultdict(int)\n",
    "    for i in nums:\n",
    "        dict[i] += 1\n",
    "    result =  max(dict.items(),key=lambda x: x[1])\n",
    "    return result\n",
    "nums = [2,3,8,4,7,9,8,2,6,5,1,6,1,2,3,2,4,6,9,1,2]\n",
    "print('original list:')\n",
    "print(nums)\n",
    "print('\\nItem with maximum frequency of the said list:')\n",
    "print(max_occurence(nums))"
   ]
  },
  {
   "cell_type": "code",
   "execution_count": null,
   "metadata": {},
   "outputs": [],
   "source": []
  }
 ],
 "metadata": {
  "kernelspec": {
   "display_name": "Python 3",
   "language": "python",
   "name": "python3"
  },
  "language_info": {
   "codemirror_mode": {
    "name": "ipython",
    "version": 3
   },
   "file_extension": ".py",
   "mimetype": "text/x-python",
   "name": "python",
   "nbconvert_exporter": "python",
   "pygments_lexer": "ipython3",
   "version": "3.8.5"
  }
 },
 "nbformat": 4,
 "nbformat_minor": 4
}
