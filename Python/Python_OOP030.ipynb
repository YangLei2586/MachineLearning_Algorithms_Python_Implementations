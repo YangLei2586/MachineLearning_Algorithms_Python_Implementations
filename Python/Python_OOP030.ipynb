{
 "cells": [
  {
   "cell_type": "code",
   "execution_count": 1,
   "metadata": {},
   "outputs": [],
   "source": [
    "class TimeMap:\n",
    "\n",
    "    def __init__(self):\n",
    "        self.times = collections.defaultdict(list)\n",
    "        self.values = collections.defaultdict(list)\n",
    "\n",
    "    def set(self, key: str, value: str, timestamp: int) -> None:\n",
    "        self.times[key].append(timestamp)\n",
    "        self.values[key].append(value)\n",
    "\n",
    "    def get(self, key: str, timestamp: int) -> str:\n",
    "        i = bisect.bisect(self.times[key], timestamp)\n",
    "        return self.values[key][i - 1] if i else ''"
   ]
  },
  {
   "cell_type": "code",
   "execution_count": 2,
   "metadata": {},
   "outputs": [],
   "source": [
    "class TimeMap:\n",
    "    \n",
    "    def __init__(self):\n",
    "        self.times = collections.defaultdict(list)\n",
    "        self.values = collections.defaultdict(list)\n",
    "        \n",
    "    def set(self, key: str, value: str, timestamp: int) -> None:\n",
    "        self.times[key].append(timestamp)\n",
    "        self.values[key].append(value)\n",
    "        \n",
    "    def get(self, key: str, timestamp: int) -> str:\n",
    "        i = bisect.bisect(self.times[key], timestamp)\n",
    "        return self.values[key][i-1] if i else ''"
   ]
  },
  {
   "cell_type": "code",
   "execution_count": 3,
   "metadata": {},
   "outputs": [
    {
     "name": "stdout",
     "output_type": "stream",
     "text": [
      "['p', 'p', 'p', 'p', 'q', 'q']\n"
     ]
    }
   ],
   "source": [
    "# Collection application example\n",
    "# 001 [p=4,q=2,r=0,s=-2] >> ['p','p','p','p','q','q']\n",
    "from collections import Counter\n",
    "c = Counter(p=4,q=2,r=0,s=-2)\n",
    "print(list(c.elements()))"
   ]
  },
  {
   "cell_type": "code",
   "execution_count": 4,
   "metadata": {},
   "outputs": [
    {
     "name": "stdout",
     "output_type": "stream",
     "text": [
      "Original string:lkseropewssasfdfafkpwe\n",
      "Most common three characters of the said string:\n",
      "[('s', 4), ('e', 3), ('f', 3)]\n"
     ]
    }
   ],
   "source": [
    "# 002 using collections to find the most common elements and their counts of a specified text\n",
    "from collections import Counter\n",
    "s = 'lkseropewssasfdfafkpwe'\n",
    "print(\"Original string:\" +s)\n",
    "print(\"Most common three characters of the said string:\")\n",
    "print(Counter(s).most_common(3))"
   ]
  },
  {
   "cell_type": "code",
   "execution_count": 6,
   "metadata": {},
   "outputs": [
    {
     "name": "stdout",
     "output_type": "stream",
     "text": [
      "Original string:sdakjflajfjlafjlajesfwsewafawiufffffsssiiiwiw\n",
      "Most common three characters of the given string:\n",
      "[('f', 10), ('s', 6), ('a', 6), ('j', 5), ('w', 5)]\n"
     ]
    }
   ],
   "source": [
    "from collections import Counter\n",
    "g = 'sdakjflajfjlafjlajesfwsewafawiufffffsssiiiwiw'\n",
    "print(\"Original string:\" + g)\n",
    "print(\"Most common three characters of the given string:\")\n",
    "print(Counter(g).most_common(5))"
   ]
  },
  {
   "cell_type": "code",
   "execution_count": 7,
   "metadata": {},
   "outputs": [
    {
     "name": "stdout",
     "output_type": "stream",
     "text": [
      "a\n",
      "e\n",
      "i\n",
      "o\n",
      "u\n"
     ]
    }
   ],
   "source": [
    "# 003 using collections deque to create a new deque with 3 items and iterover the deque's elements\n",
    "from collections import deque\n",
    "dq = deque('aeiou')\n",
    "for element in dq:\n",
    "    print(element)"
   ]
  },
  {
   "cell_type": "code",
   "execution_count": 8,
   "metadata": {},
   "outputs": [
    {
     "name": "stdout",
     "output_type": "stream",
     "text": [
      "a\n",
      "d\n",
      "a\n",
      "b\n",
      "f\n",
      "d\n",
      "s\n"
     ]
    }
   ],
   "source": [
    "from collections import deque\n",
    "deq = deque('adabfds')\n",
    "for v in deq:\n",
    "    print(v)"
   ]
  },
  {
   "cell_type": "code",
   "execution_count": 9,
   "metadata": {},
   "outputs": [
    {
     "name": "stdout",
     "output_type": "stream",
     "text": [
      "a\n",
      "d\n",
      "j\n",
      "a\n",
      "f\n",
      "l\n",
      "j\n",
      ";\n",
      "a\n",
      "k\n",
      "f\n",
      "l\n",
      "a\n",
      "k\n",
      "f\n",
      "a\n",
      "j\n",
      "f\n",
      "l\n",
      "k\n",
      "a\n",
      "l\n",
      "j\n",
      "l\n",
      "d\n",
      "a\n"
     ]
    }
   ],
   "source": [
    "from collections import deque\n",
    "des = deque('adjaflj;akflakfajflkaljlda')\n",
    "for i in des:\n",
    "    print(i)"
   ]
  },
  {
   "cell_type": "code",
   "execution_count": null,
   "metadata": {},
   "outputs": [],
   "source": []
  }
 ],
 "metadata": {
  "kernelspec": {
   "display_name": "Python 3",
   "language": "python",
   "name": "python3"
  },
  "language_info": {
   "codemirror_mode": {
    "name": "ipython",
    "version": 3
   },
   "file_extension": ".py",
   "mimetype": "text/x-python",
   "name": "python",
   "nbconvert_exporter": "python",
   "pygments_lexer": "ipython3",
   "version": "3.8.5"
  }
 },
 "nbformat": 4,
 "nbformat_minor": 4
}
