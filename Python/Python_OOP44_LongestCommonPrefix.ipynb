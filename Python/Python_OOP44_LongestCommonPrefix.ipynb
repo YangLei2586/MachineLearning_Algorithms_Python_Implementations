{
 "cells": [
  {
   "cell_type": "markdown",
   "metadata": {},
   "source": [
    "Problem Statement: Given a set of strings, find the longest common prefix.\n",
    "Examples: \n",
    "\n",
    "Input: {\"geeksforgeeks\", \"geeks\", \"geek\", \"geezer\"}\n",
    "Output: \"gee\"\n",
    "\n",
    "Input: {\"apple\", \"ape\", \"april\"}\n",
    "Output: \"ap\""
   ]
  },
  {
   "cell_type": "code",
   "execution_count": 5,
   "metadata": {},
   "outputs": [
    {
     "name": "stdout",
     "output_type": "stream",
     "text": [
      "The longest Common Prefix is : gee\n"
     ]
    }
   ],
   "source": [
    "# Python 3 program to find longest\n",
    "# common prefix of given array of words.\n",
    "def longestCommonPrefix( a):\n",
    "    size = len(a)\n",
    "    # if size is 0, return empty string\n",
    "    if (size == 0):\n",
    "        return \"\"\n",
    "    if (size == 1):\n",
    "        return a[0]\n",
    "      # sort the array of strings\n",
    "    a.sort()     \n",
    "    # find the minimum length from\n",
    "    # first and last string\n",
    "    end = min(len(a[0]), len(a[size - 1])) \n",
    "    # find the common prefix between\n",
    "    # the first and last string\n",
    "    i = 0\n",
    "    while (i < end and\n",
    "           a[0][i] == a[size - 1][i]):\n",
    "        i += 1\n",
    "    pre = a[0][0: i]\n",
    "    return pre\n",
    " \n",
    "# Driver Code\n",
    "if __name__ == \"__main__\": \n",
    "    input = [\"geeksforgeeks\", \"geeks\",\n",
    "                     \"geek\", \"geezer\"]\n",
    "    print(\"The longest Common Prefix is :\" ,\n",
    "                 longestCommonPrefix(input))\n",
    " "
   ]
  },
  {
   "cell_type": "code",
   "execution_count": 17,
   "metadata": {},
   "outputs": [
    {
     "name": "stdout",
     "output_type": "stream",
     "text": [
      "The longest common prefix is: gee\n"
     ]
    }
   ],
   "source": [
    "def LongestCommonPrefix(a):\n",
    "    size = len(a)\n",
    "    #if size is 0 return empty string\n",
    "    if (size == 0):\n",
    "        return \"\"\n",
    "    if (size == 1):\n",
    "        return a[0]\n",
    "    # sort the array of strings\n",
    "    a.sort()\n",
    "    # find the minimum length from first and last string \n",
    "    end = min(len(a[0]), len(a[size - 1]))\n",
    "    # find the common prefix between the first and last string\n",
    "    i = 0\n",
    "    while (i < end and a[0][i] == a[size - 1][i]):\n",
    "        i += 1\n",
    "    pre = a[0][0:i]\n",
    "    return pre\n",
    "# Driver Code\n",
    "if __name__ == \"__main__\":\n",
    "    input = [\"geeksforgeeks\",\"geeks\",\n",
    "             \"geek\",\"geezer\"]\n",
    "    print(\"The longest common prefix is:\", LongestCommonPrefix(input))"
   ]
  },
  {
   "cell_type": "code",
   "execution_count": null,
   "metadata": {},
   "outputs": [],
   "source": [
    " "
   ]
  }
 ],
 "metadata": {
  "kernelspec": {
   "display_name": "Python 3",
   "language": "python",
   "name": "python3"
  },
  "language_info": {
   "codemirror_mode": {
    "name": "ipython",
    "version": 3
   },
   "file_extension": ".py",
   "mimetype": "text/x-python",
   "name": "python",
   "nbconvert_exporter": "python",
   "pygments_lexer": "ipython3",
   "version": "3.8.5"
  }
 },
 "nbformat": 4,
 "nbformat_minor": 4
}
