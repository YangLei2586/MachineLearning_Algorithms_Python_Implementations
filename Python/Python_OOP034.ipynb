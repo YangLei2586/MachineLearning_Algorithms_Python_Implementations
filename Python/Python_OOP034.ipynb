{
 "cells": [
  {
   "cell_type": "code",
   "execution_count": 2,
   "metadata": {},
   "outputs": [
    {
     "name": "stdout",
     "output_type": "stream",
     "text": [
      "Original list:\n",
      "[2, 3, 8, 4, 7, 9, 8, 2, 6, 5, 1, 6, 1, 2, 3, 2, 4, 9, 1, 2]\n",
      "\n",
      "Item with maxium frequency of the said list:\n",
      "(2, 5)\n"
     ]
    }
   ],
   "source": [
    "#019 collections example find the item with maximum frequency in a given list\n",
    "from collections import defaultdict \n",
    "def max_occurrences(nums):\n",
    "    dict = defaultdict(int)\n",
    "    for i in nums:\n",
    "        dict[i] += 1\n",
    "        \n",
    "    result = max(dict.items(),key=lambda x: x[1])\n",
    "    return result\n",
    "\n",
    "nums = [2,3,8,4,7,9,8,2,6,5,1,6,1,2,3,2,4,9,1,2]\n",
    "print('Original list:')\n",
    "print(nums)\n",
    "print('\\nItem with maxium frequency of the said list:')\n",
    "print(max_occurrences(nums))"
   ]
  },
  {
   "cell_type": "code",
   "execution_count": 11,
   "metadata": {},
   "outputs": [
    {
     "name": "stdout",
     "output_type": "stream",
     "text": [
      "Original string:\n",
      "hello world\n",
      "('l', 'h')\n",
      "\n",
      "Most common character of the said string: l\n",
      "Least common character of the said string: h\n"
     ]
    }
   ],
   "source": [
    "# 020 collections example count most and least common characters in a given string\n",
    "from collections import Counter\n",
    "def max_least_char(str1):\n",
    "    temp = Counter(str1)\n",
    "    max_char = max(temp, key=temp.get)\n",
    "    min_char = min(temp, key=temp.get)\n",
    "    return (max_char,min_char)\n",
    "\n",
    "str1 = 'hello world'\n",
    "print('Original string:')\n",
    "print(str1)\n",
    "result = max_least_char(str1)\n",
    "print(result)\n",
    "print(\"\\nMost common character of the said string:\",result[0])\n",
    "print('Least common character of the said string:',result[1])"
   ]
  },
  {
   "cell_type": "code",
   "execution_count": 13,
   "metadata": {},
   "outputs": [
    {
     "name": "stdout",
     "output_type": "stream",
     "text": [
      "Original OrderedDict\n",
      "OrderedDict([('color1', 'Red'), ('color2', 'Green'), ('color3', 'Blue')])\n",
      "Insert an element at the begining of the said OrderedDict:\n",
      "\n",
      "Updated OrderedDict:\n",
      "OrderedDict([('color4', 'Organge'), ('color1', 'Red'), ('color2', 'Green'), ('color3', 'Blue')])\n"
     ]
    }
   ],
   "source": [
    "# 021 collections example insert an element at the begining of a given OrderedDictionary\n",
    "from collections import OrderedDict\n",
    "color_orderdict = OrderedDict([('color1','Red'),('color2','Green'),('color3','Blue')])\n",
    "print('Original OrderedDict')\n",
    "print(color_orderdict)\n",
    "print('Insert an element at the begining of the said OrderedDict:')\n",
    "color_orderdict.update({'color4':'Organge'})\n",
    "color_orderdict.move_to_end('color4',last=False)\n",
    "print('\\nUpdated OrderedDict:')\n",
    "print(color_orderdict)"
   ]
  },
  {
   "cell_type": "code",
   "execution_count": null,
   "metadata": {},
   "outputs": [],
   "source": []
  }
 ],
 "metadata": {
  "kernelspec": {
   "display_name": "Python 3",
   "language": "python",
   "name": "python3"
  },
  "language_info": {
   "codemirror_mode": {
    "name": "ipython",
    "version": 3
   },
   "file_extension": ".py",
   "mimetype": "text/x-python",
   "name": "python",
   "nbconvert_exporter": "python",
   "pygments_lexer": "ipython3",
   "version": "3.8.5"
  }
 },
 "nbformat": 4,
 "nbformat_minor": 4
}
