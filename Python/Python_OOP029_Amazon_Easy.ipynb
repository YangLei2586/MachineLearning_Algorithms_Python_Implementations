{
 "cells": [
  {
   "cell_type": "code",
   "execution_count": 5,
   "metadata": {},
   "outputs": [],
   "source": [
    "#TwoSum\n",
    "#S1 brute force\n",
    "def twoSum(nums,target):\n",
    "    \"\"\"\n",
    "    :type nums: List[int]\n",
    "    :type target: int\n",
    "    :rtype: List[int]\n",
    "    \"\"\"\n",
    "    for i in range(len(nums)):\n",
    "        for j in range(i+1,len(nums)):\n",
    "            if nums[j] == target - nums[i]:\n",
    "                return [i,j]"
   ]
  },
  {
   "cell_type": "code",
   "execution_count": 7,
   "metadata": {},
   "outputs": [
    {
     "data": {
      "text/plain": [
       "[2, 4]"
      ]
     },
     "execution_count": 7,
     "metadata": {},
     "output_type": "execute_result"
    }
   ],
   "source": [
    "twoSum([1,2,3,5,6],9)"
   ]
  },
  {
   "cell_type": "code",
   "execution_count": 8,
   "metadata": {},
   "outputs": [],
   "source": [
    "def TwoSum(nums,target):\n",
    "    \"\"\"\n",
    "    :type nums: List[int]\n",
    "    :type target: int\n",
    "    :Rtype: List[int]\n",
    "    \"\"\"\n",
    "    for i in range(len(nums)):\n",
    "        for j in range(i+1, len(nums)):\n",
    "            if nums[i] + nums[j] == target:\n",
    "                return[i,j]"
   ]
  },
  {
   "cell_type": "code",
   "execution_count": 10,
   "metadata": {},
   "outputs": [
    {
     "data": {
      "text/plain": [
       "[0, 2]"
      ]
     },
     "execution_count": 10,
     "metadata": {},
     "output_type": "execute_result"
    }
   ],
   "source": [
    "TwoSum([4,5,6,7,8],10)"
   ]
  },
  {
   "cell_type": "code",
   "execution_count": 12,
   "metadata": {},
   "outputs": [],
   "source": [
    "def twoSumtwo(nums,target):\n",
    "    \"\"\"\n",
    "    :type nums: list[int]\n",
    "    :type target: int\n",
    "    :rtype: list[int]\n",
    "    \"\"\"\n",
    "    for i in range(len(nums)):\n",
    "        for j in range(i+1,len(nums)):\n",
    "            if nums[i] + nums[j] == target:\n",
    "                return [i,j]"
   ]
  },
  {
   "cell_type": "code",
   "execution_count": 14,
   "metadata": {},
   "outputs": [
    {
     "data": {
      "text/plain": [
       "[0, 2]"
      ]
     },
     "execution_count": 14,
     "metadata": {},
     "output_type": "execute_result"
    }
   ],
   "source": [
    "twoSumtwo([10,1,23,5,6,8,9],33)"
   ]
  },
  {
   "cell_type": "code",
   "execution_count": 23,
   "metadata": {},
   "outputs": [],
   "source": [
    "#937 Reorder Data in Log files\n",
    "#S1\n",
    "def reorderLogFiles(logs):\n",
    "    def get_key(log):\n",
    "        _id, rest = log.split(\" \",maxsplit=1)\n",
    "        return (0,rest, _id) if rest[0].isalpha() else(1, )\n",
    "    return sorted(logs,key=get_key)"
   ]
  },
  {
   "cell_type": "code",
   "execution_count": 24,
   "metadata": {},
   "outputs": [
    {
     "data": {
      "text/plain": [
       "['let1 art can',\n",
       " 'let3 art zero',\n",
       " 'let2 own kit dig',\n",
       " 'dig1 8 1 5 1',\n",
       " 'dig2 3 6']"
      ]
     },
     "execution_count": 24,
     "metadata": {},
     "output_type": "execute_result"
    }
   ],
   "source": [
    "logs=[\"dig1 8 1 5 1\", \"let1 art can\",\"dig2 3 6\", \"let2 own kit dig\",\"let3 art zero\"]\n",
    "reorderLogFiles(logs)"
   ]
  },
  {
   "cell_type": "code",
   "execution_count": 25,
   "metadata": {},
   "outputs": [],
   "source": [
    "def ReorderLogFiles(logs):\n",
    "    def get_key(log):\n",
    "        _id, rest = log.split(\" \", maxsplit=1)\n",
    "        return (0, rest, _id) if rest[0].isalpha() else(1, )\n",
    "    return sorted(logs,key=get_key)"
   ]
  },
  {
   "cell_type": "code",
   "execution_count": 26,
   "metadata": {},
   "outputs": [],
   "source": [
    "def reorderlogfiles(logs):\n",
    "    def get_key(log):\n",
    "        _id, rest = log.split(\" \", maxsplit=1)\n",
    "        return(0,rest,_id) if rest[0].isalpha() else(1, )\n",
    "    return sorted(logs,key=get_key)"
   ]
  },
  {
   "cell_type": "code",
   "execution_count": 27,
   "metadata": {},
   "outputs": [],
   "source": [
    "def ReorderLogfiles(logs):\n",
    "    def get_key(log):\n",
    "        _id, rest = log.split(\" \", maxsplit=1)\n",
    "        return (0,rest,_id) if rest[0].isalpha() else (1, )\n",
    "    return sorted(logs,key=get_key)"
   ]
  },
  {
   "cell_type": "code",
   "execution_count": 28,
   "metadata": {},
   "outputs": [],
   "source": [
    "def ReorderlogFiles(logs):\n",
    "    def get_key(log):\n",
    "        _id, rest = log.split(\" \", maxsplit=1)\n",
    "        return (0, rest, _id) if rest[0].isalpha() else(1, )\n",
    "    return sorted(logs, key=get_key)"
   ]
  },
  {
   "cell_type": "code",
   "execution_count": 29,
   "metadata": {},
   "outputs": [
    {
     "data": {
      "text/plain": [
       "['let1 art is can',\n",
       " 'let3 art zero',\n",
       " 'let2 own kit dig',\n",
       " 'dig1 11 1 5 1',\n",
       " 'dig2 3 6']"
      ]
     },
     "execution_count": 29,
     "metadata": {},
     "output_type": "execute_result"
    }
   ],
   "source": [
    "logs=[\"dig1 11 1 5 1\", \"let1 art is can\",\"dig2 3 6\", \"let2 own kit dig\",\"let3 art zero\"]\n",
    "ReorderlogFiles(logs)"
   ]
  },
  {
   "cell_type": "code",
   "execution_count": null,
   "metadata": {},
   "outputs": [],
   "source": []
  }
 ],
 "metadata": {
  "kernelspec": {
   "display_name": "Python 3",
   "language": "python",
   "name": "python3"
  },
  "language_info": {
   "codemirror_mode": {
    "name": "ipython",
    "version": 3
   },
   "file_extension": ".py",
   "mimetype": "text/x-python",
   "name": "python",
   "nbconvert_exporter": "python",
   "pygments_lexer": "ipython3",
   "version": "3.8.5"
  }
 },
 "nbformat": 4,
 "nbformat_minor": 4
}
